{
 "cells": [
  {
   "cell_type": "code",
   "execution_count": 1,
   "metadata": {
    "id": "wq8s7YkChHY_"
   },
   "outputs": [],
   "source": [
    "#Important packages to be imported\n",
    "import pandas as pd\n",
    "import numpy as np\n",
    "import matplotlib.pyplot as plt\n",
    "from sklearn.model_selection import train_test_split\n",
    "from sklearn.metrics import classification_report, r2_score,mean_absolute_error, mean_squared_error\n",
    "import seaborn as sns\n",
    "from sklearn.linear_model import LogisticRegression\n",
    "from sklearn.naive_bayes import GaussianNB\n",
    "from sklearn.tree import DecisionTreeClassifier\n",
    "from sklearn.neighbors import KNeighborsClassifier\n",
    "from sklearn.ensemble import RandomForestClassifier"
   ]
  },
  {
   "cell_type": "code",
   "execution_count": 3,
   "metadata": {
    "id": "gwA6z82Jh7P3"
   },
   "outputs": [],
   "source": [
    "#Renewable energy value loading\n",
    "solar_data=pd.read_csv(\"Solar_Footprints_in_California.csv\")"
   ]
  },
  {
   "cell_type": "code",
   "execution_count": 56,
   "metadata": {
    "colab": {
     "base_uri": "https://localhost:8080/"
    },
    "id": "r2Udt5zgiCzd",
    "outputId": "43809ba4-c298-40c2-e54b-2c9594cbaf43"
   },
   "outputs": [
    {
     "name": "stdout",
     "output_type": "stream",
     "text": [
      "<class 'pandas.core.frame.DataFrame'>\n",
      "RangeIndex: 5397 entries, 0 to 5396\n",
      "Data columns (total 21 columns):\n",
      " #   Column                         Non-Null Count  Dtype  \n",
      "---  ------                         --------------  -----  \n",
      " 0   OBJECTID                       5397 non-null   int64  \n",
      " 1   COUNTYNAME                     5397 non-null   object \n",
      " 2   Acres                          5397 non-null   float64\n",
      " 3   Type                           5397 non-null   object \n",
      " 4   Urban_Rural                    5397 non-null   object \n",
      " 5   Combined_Class                 5397 non-null   object \n",
      " 6   Dist_Sub_GTET_100_Miles        5397 non-null   float64\n",
      " 7   Precentile_GTET_100_Miles      5397 non-null   object \n",
      " 8   Name_Sub_GTET_100              5397 non-null   object \n",
      " 9   HIFLD_ID_Sub_GTET_100          5255 non-null   float64\n",
      " 10  Dist_Sub_GTET_200_Miles        5397 non-null   float64\n",
      " 11  Precentile_GTET_200_Miles      5397 non-null   object \n",
      " 12  Name_Sub_GTET_200              5397 non-null   object \n",
      " 13  HIFLD_ID_Sub_GTET_200          5165 non-null   float64\n",
      " 14  Dist_Sub_CAISO_Miles           5397 non-null   float64\n",
      " 15  Precentile_GTET_CAISO_Miles    5397 non-null   object \n",
      " 16  Name_Sub_CASIO                 5387 non-null   object \n",
      " 17  HIFLD_ID_Sub_CAISO             5180 non-null   float64\n",
      " 18  Solar_Technoeconomic_Intersec  5397 non-null   object \n",
      " 19  Shape__Area                    5397 non-null   float64\n",
      " 20  Shape__Length                  5397 non-null   float64\n",
      "dtypes: float64(9), int64(1), object(11)\n",
      "memory usage: 885.6+ KB\n"
     ]
    }
   ],
   "source": [
    "#Dataset information\n",
    "solar_data.info()"
   ]
  },
  {
   "cell_type": "code",
   "execution_count": 74,
   "metadata": {
    "id": "4wvumm3ciOGj"
   },
   "outputs": [],
   "source": [
    "#Replace the null values in the dataset with a 0\n",
    "solar_data=solar_data.fillna(0)"
   ]
  },
  {
   "cell_type": "code",
   "execution_count": 58,
   "metadata": {
    "colab": {
     "base_uri": "https://localhost:8080/"
    },
    "id": "vNjmIETqiGuM",
    "outputId": "4799bfac-46b8-4c82-8442-20d788c2731d"
   },
   "outputs": [
    {
     "data": {
      "text/plain": [
       "OBJECTID                         0\n",
       "COUNTYNAME                       0\n",
       "Acres                            0\n",
       "Type                             0\n",
       "Urban_Rural                      0\n",
       "Combined_Class                   0\n",
       "Dist_Sub_GTET_100_Miles          0\n",
       "Precentile_GTET_100_Miles        0\n",
       "Name_Sub_GTET_100                0\n",
       "HIFLD_ID_Sub_GTET_100            0\n",
       "Dist_Sub_GTET_200_Miles          0\n",
       "Precentile_GTET_200_Miles        0\n",
       "Name_Sub_GTET_200                0\n",
       "HIFLD_ID_Sub_GTET_200            0\n",
       "Dist_Sub_CAISO_Miles             0\n",
       "Precentile_GTET_CAISO_Miles      0\n",
       "Name_Sub_CASIO                   0\n",
       "HIFLD_ID_Sub_CAISO               0\n",
       "Solar_Technoeconomic_Intersec    0\n",
       "Shape__Area                      0\n",
       "Shape__Length                    0\n",
       "dtype: int64"
      ]
     },
     "execution_count": 58,
     "metadata": {},
     "output_type": "execute_result"
    }
   ],
   "source": [
    "#Check Null values in the dataset\n",
    "solar_data.isnull().sum() #sum() counts the number of True Values"
   ]
  },
  {
   "cell_type": "code",
   "execution_count": 59,
   "metadata": {
    "colab": {
     "base_uri": "https://localhost:8080/",
     "height": 342
    },
    "id": "4Zc8W8GNiXq3",
    "outputId": "b3cab8f7-c7aa-4b33-bb82-60b0f17109e7"
   },
   "outputs": [
    {
     "data": {
      "text/html": [
       "<div>\n",
       "<style scoped>\n",
       "    .dataframe tbody tr th:only-of-type {\n",
       "        vertical-align: middle;\n",
       "    }\n",
       "\n",
       "    .dataframe tbody tr th {\n",
       "        vertical-align: top;\n",
       "    }\n",
       "\n",
       "    .dataframe thead th {\n",
       "        text-align: right;\n",
       "    }\n",
       "</style>\n",
       "<table border=\"1\" class=\"dataframe\">\n",
       "  <thead>\n",
       "    <tr style=\"text-align: right;\">\n",
       "      <th></th>\n",
       "      <th>OBJECTID</th>\n",
       "      <th>COUNTYNAME</th>\n",
       "      <th>Acres</th>\n",
       "      <th>Type</th>\n",
       "      <th>Urban_Rural</th>\n",
       "      <th>Combined_Class</th>\n",
       "      <th>Dist_Sub_GTET_100_Miles</th>\n",
       "      <th>Precentile_GTET_100_Miles</th>\n",
       "      <th>Name_Sub_GTET_100</th>\n",
       "      <th>HIFLD_ID_Sub_GTET_100</th>\n",
       "      <th>...</th>\n",
       "      <th>Precentile_GTET_200_Miles</th>\n",
       "      <th>Name_Sub_GTET_200</th>\n",
       "      <th>HIFLD_ID_Sub_GTET_200</th>\n",
       "      <th>Dist_Sub_CAISO_Miles</th>\n",
       "      <th>Precentile_GTET_CAISO_Miles</th>\n",
       "      <th>Name_Sub_CASIO</th>\n",
       "      <th>HIFLD_ID_Sub_CAISO</th>\n",
       "      <th>Solar_Technoeconomic_Intersec</th>\n",
       "      <th>Shape__Area</th>\n",
       "      <th>Shape__Length</th>\n",
       "    </tr>\n",
       "  </thead>\n",
       "  <tbody>\n",
       "    <tr>\n",
       "      <th>0</th>\n",
       "      <td>1</td>\n",
       "      <td>Alameda County</td>\n",
       "      <td>1.672639</td>\n",
       "      <td>Rooftop</td>\n",
       "      <td>Urban</td>\n",
       "      <td>Rooftop - Urban</td>\n",
       "      <td>0.162732</td>\n",
       "      <td>0 to 25th</td>\n",
       "      <td>Dixon Landing</td>\n",
       "      <td>309200.0</td>\n",
       "      <td>...</td>\n",
       "      <td>0 to 25th</td>\n",
       "      <td>Los Esteros</td>\n",
       "      <td>310258.0</td>\n",
       "      <td>2.272283</td>\n",
       "      <td>0 to 25th</td>\n",
       "      <td>Los Esteros</td>\n",
       "      <td>310258.0</td>\n",
       "      <td>Within</td>\n",
       "      <td>6768.954679</td>\n",
       "      <td>365.801336</td>\n",
       "    </tr>\n",
       "    <tr>\n",
       "      <th>1</th>\n",
       "      <td>2</td>\n",
       "      <td>Alameda County</td>\n",
       "      <td>1.897078</td>\n",
       "      <td>Rooftop</td>\n",
       "      <td>Urban</td>\n",
       "      <td>Rooftop - Urban</td>\n",
       "      <td>0.226728</td>\n",
       "      <td>0 to 25th</td>\n",
       "      <td>Dixon Landing</td>\n",
       "      <td>309200.0</td>\n",
       "      <td>...</td>\n",
       "      <td>0 to 25th</td>\n",
       "      <td>Los Esteros</td>\n",
       "      <td>310258.0</td>\n",
       "      <td>2.392816</td>\n",
       "      <td>0 to 25th</td>\n",
       "      <td>Los Esteros</td>\n",
       "      <td>310258.0</td>\n",
       "      <td>Within</td>\n",
       "      <td>7677.228982</td>\n",
       "      <td>366.909878</td>\n",
       "    </tr>\n",
       "    <tr>\n",
       "      <th>2</th>\n",
       "      <td>3</td>\n",
       "      <td>Alameda County</td>\n",
       "      <td>1.275783</td>\n",
       "      <td>Rooftop</td>\n",
       "      <td>Urban</td>\n",
       "      <td>Rooftop - Urban</td>\n",
       "      <td>0.426104</td>\n",
       "      <td>0 to 25th</td>\n",
       "      <td>Dixon Landing</td>\n",
       "      <td>309200.0</td>\n",
       "      <td>...</td>\n",
       "      <td>0 to 25th</td>\n",
       "      <td>Los Esteros</td>\n",
       "      <td>310258.0</td>\n",
       "      <td>2.537298</td>\n",
       "      <td>0 to 25th</td>\n",
       "      <td>Los Esteros</td>\n",
       "      <td>310258.0</td>\n",
       "      <td>Within</td>\n",
       "      <td>5162.935990</td>\n",
       "      <td>290.576263</td>\n",
       "    </tr>\n",
       "    <tr>\n",
       "      <th>3</th>\n",
       "      <td>4</td>\n",
       "      <td>Alameda County</td>\n",
       "      <td>1.424286</td>\n",
       "      <td>Rooftop</td>\n",
       "      <td>Urban</td>\n",
       "      <td>Rooftop - Urban</td>\n",
       "      <td>0.491306</td>\n",
       "      <td>0 to 25th</td>\n",
       "      <td>Dixon Landing</td>\n",
       "      <td>309200.0</td>\n",
       "      <td>...</td>\n",
       "      <td>0 to 25th</td>\n",
       "      <td>Los Esteros</td>\n",
       "      <td>310258.0</td>\n",
       "      <td>2.626699</td>\n",
       "      <td>0 to 25th</td>\n",
       "      <td>Los Esteros</td>\n",
       "      <td>310258.0</td>\n",
       "      <td>Within</td>\n",
       "      <td>5763.905754</td>\n",
       "      <td>344.705846</td>\n",
       "    </tr>\n",
       "    <tr>\n",
       "      <th>4</th>\n",
       "      <td>5</td>\n",
       "      <td>Alameda County</td>\n",
       "      <td>0.984429</td>\n",
       "      <td>Rooftop</td>\n",
       "      <td>Urban</td>\n",
       "      <td>Rooftop - Urban</td>\n",
       "      <td>0.795822</td>\n",
       "      <td>0 to 25th</td>\n",
       "      <td>Dixon Landing</td>\n",
       "      <td>309200.0</td>\n",
       "      <td>...</td>\n",
       "      <td>0 to 25th</td>\n",
       "      <td>Los Esteros</td>\n",
       "      <td>310258.0</td>\n",
       "      <td>2.728629</td>\n",
       "      <td>25th to 50th</td>\n",
       "      <td>Los Esteros</td>\n",
       "      <td>310258.0</td>\n",
       "      <td>Within</td>\n",
       "      <td>3983.859693</td>\n",
       "      <td>283.968425</td>\n",
       "    </tr>\n",
       "  </tbody>\n",
       "</table>\n",
       "<p>5 rows × 21 columns</p>\n",
       "</div>"
      ],
      "text/plain": [
       "   OBJECTID      COUNTYNAME     Acres     Type Urban_Rural   Combined_Class  \\\n",
       "0         1  Alameda County  1.672639  Rooftop       Urban  Rooftop - Urban   \n",
       "1         2  Alameda County  1.897078  Rooftop       Urban  Rooftop - Urban   \n",
       "2         3  Alameda County  1.275783  Rooftop       Urban  Rooftop - Urban   \n",
       "3         4  Alameda County  1.424286  Rooftop       Urban  Rooftop - Urban   \n",
       "4         5  Alameda County  0.984429  Rooftop       Urban  Rooftop - Urban   \n",
       "\n",
       "   Dist_Sub_GTET_100_Miles Precentile_GTET_100_Miles Name_Sub_GTET_100  \\\n",
       "0                 0.162732                 0 to 25th     Dixon Landing   \n",
       "1                 0.226728                 0 to 25th     Dixon Landing   \n",
       "2                 0.426104                 0 to 25th     Dixon Landing   \n",
       "3                 0.491306                 0 to 25th     Dixon Landing   \n",
       "4                 0.795822                 0 to 25th     Dixon Landing   \n",
       "\n",
       "   HIFLD_ID_Sub_GTET_100  ...  Precentile_GTET_200_Miles Name_Sub_GTET_200  \\\n",
       "0               309200.0  ...                  0 to 25th       Los Esteros   \n",
       "1               309200.0  ...                  0 to 25th       Los Esteros   \n",
       "2               309200.0  ...                  0 to 25th       Los Esteros   \n",
       "3               309200.0  ...                  0 to 25th       Los Esteros   \n",
       "4               309200.0  ...                  0 to 25th       Los Esteros   \n",
       "\n",
       "  HIFLD_ID_Sub_GTET_200  Dist_Sub_CAISO_Miles  Precentile_GTET_CAISO_Miles  \\\n",
       "0              310258.0              2.272283                    0 to 25th   \n",
       "1              310258.0              2.392816                    0 to 25th   \n",
       "2              310258.0              2.537298                    0 to 25th   \n",
       "3              310258.0              2.626699                    0 to 25th   \n",
       "4              310258.0              2.728629                 25th to 50th   \n",
       "\n",
       "  Name_Sub_CASIO HIFLD_ID_Sub_CAISO  Solar_Technoeconomic_Intersec  \\\n",
       "0    Los Esteros           310258.0                         Within   \n",
       "1    Los Esteros           310258.0                         Within   \n",
       "2    Los Esteros           310258.0                         Within   \n",
       "3    Los Esteros           310258.0                         Within   \n",
       "4    Los Esteros           310258.0                         Within   \n",
       "\n",
       "   Shape__Area  Shape__Length  \n",
       "0  6768.954679     365.801336  \n",
       "1  7677.228982     366.909878  \n",
       "2  5162.935990     290.576263  \n",
       "3  5763.905754     344.705846  \n",
       "4  3983.859693     283.968425  \n",
       "\n",
       "[5 rows x 21 columns]"
      ]
     },
     "execution_count": 59,
     "metadata": {},
     "output_type": "execute_result"
    }
   ],
   "source": [
    "#Dataset initial rows\n",
    "solar_data.head()"
   ]
  },
  {
   "cell_type": "code",
   "execution_count": 4,
   "metadata": {
    "id": "IjS3CL1Hi5D3"
   },
   "outputs": [],
   "source": [
    "#Transform the dependent variable into numeric format\n",
    "cond=[\n",
    "    solar_data['Type']==\"Rooftop\",\n",
    "    solar_data['Type']==\"Ground\",\n",
    "    solar_data['Type']==\"Parking\"\n",
    "\n",
    "]\n",
    "val=[0,1,2]\n",
    "solar_data['Type_Num']=np.select(cond,val)"
   ]
  },
  {
   "cell_type": "code",
   "execution_count": 5,
   "metadata": {
    "id": "MiqDEBX_ibvx"
   },
   "outputs": [],
   "source": [
    "# Forming the independent variable dataset and dependent variable dataset\n",
    "feature = solar_data.drop(['Type','Type_Num','OBJECTID','Name_Sub_GTET_100','Name_Sub_GTET_200','Name_Sub_CASIO','Combined_Class'],axis=1)\n",
    "target = solar_data.loc[:,'Type_Num']"
   ]
  },
  {
   "cell_type": "code",
   "execution_count": 6,
   "metadata": {
    "id": "RU2kW_ZqrHfh"
   },
   "outputs": [],
   "source": [
    "#Dummy variables creation to prepare the data for ML models\n",
    "COUNTYNAME=pd.get_dummies(feature['COUNTYNAME'],drop_first=True)\n",
    "Urban_Rural=pd.get_dummies(feature['Urban_Rural'],drop_first=True)\n",
    "Precentile_GTET_100_Miles=pd.get_dummies(feature['Precentile_GTET_100_Miles'],drop_first=True)\n",
    "Precentile_GTET_200_Miles=pd.get_dummies(feature['Precentile_GTET_200_Miles'],drop_first=True)\n",
    "Precentile_GTET_CAISO_Miles=pd.get_dummies(feature['Precentile_GTET_CAISO_Miles'],drop_first=True)\n",
    "Solar_Technoeconomic_Intersec=pd.get_dummies(feature['Solar_Technoeconomic_Intersec'],drop_first=True)"
   ]
  },
  {
   "cell_type": "code",
   "execution_count": 7,
   "metadata": {
    "id": "R_gX09Qxrv2B"
   },
   "outputs": [],
   "source": [
    "#Having required variables for independent dataset\n",
    "feature.drop(['COUNTYNAME','Urban_Rural','Precentile_GTET_100_Miles','Precentile_GTET_200_Miles','Precentile_GTET_CAISO_Miles','Solar_Technoeconomic_Intersec'],axis=1,inplace=True)"
   ]
  },
  {
   "cell_type": "code",
   "execution_count": 8,
   "metadata": {
    "id": "tSa6BXFar7uk"
   },
   "outputs": [],
   "source": [
    "#Independent variable dataset creation\n",
    "feature = pd.concat([feature,COUNTYNAME,Urban_Rural,Precentile_GTET_100_Miles,Precentile_GTET_200_Miles,Precentile_GTET_CAISO_Miles,Solar_Technoeconomic_Intersec],axis=1)"
   ]
  },
  {
   "cell_type": "code",
   "execution_count": null,
   "metadata": {},
   "outputs": [],
   "source": [
    "#Dividing the actual dataset into 2 parts : Train data and test data\n",
    "X_train,X_test,Y_train,Y_test = train_test_split(feature, target ,test_size=0.20,random_st#Independent variable dataset creation\n",
    "feature = pd.concat([feature,COUNTYNAME,Urban_Rural,Precentile_GTET_100_Miles,Precentile_GTET_200_Miles,Precentile_GTET_CAISO_Miles,Solar_Technoeconomic_Intersec],axis=1)ate=30)"
   ]
  },
  {
   "cell_type": "code",
   "execution_count": null,
   "metadata": {},
   "outputs": [],
   "source": []
  },
  {
   "cell_type": "markdown",
   "metadata": {},
   "source": [
    "EDA"
   ]
  },
  {
   "cell_type": "code",
   "execution_count": 78,
   "metadata": {},
   "outputs": [
    {
     "data": {
      "image/png": "[encoded data removed]",
      "text/plain": [
       "<Figure size 640x480 with 1 Axes>"
      ]
     },
     "metadata": {},
     "output_type": "display_data"
    }
   ],
   "source": [
    "#Distribution of Type variable \n",
    "solar_data['Type'].hist()\n",
    "plt.xlabel('Type')\n",
    "plt.ylabel('Frequency')\n",
    "plt.show()"
   ]
  },
  {
   "cell_type": "code",
   "execution_count": 65,
   "metadata": {},
   "outputs": [
    {
     "data": {
      "text/plain": [
       "<AxesSubplot:xlabel='Type', ylabel='Shape__Area'>"
      ]
     },
     "execution_count": 65,
     "metadata": {},
     "output_type": "execute_result"
    },
    {
     "data": {
      "image/png": "[encoded data removed]",
      "text/plain": [
       "<Figure size 640x480 with 1 Axes>"
      ]
     },
     "metadata": {},
     "output_type": "display_data"
    }
   ],
   "source": [
    "# relationship between shape area and solar panel type\n",
    "sns.barplot(x='Type', y='Shape__Area', data=solar_data,palette='plasma')"
   ]
  },
  {
   "cell_type": "code",
   "execution_count": 66,
   "metadata": {},
   "outputs": [
    {
     "data": {
      "text/plain": [
       "<AxesSubplot:xlabel='Type', ylabel='Shape__Length'>"
      ]
     },
     "execution_count": 66,
     "metadata": {},
     "output_type": "execute_result"
    },
    {
     "data": {
      "image/png": "[encoded data removed]",
      "text/plain": [
       "<Figure size 640x480 with 1 Axes>"
      ]
     },
     "metadata": {},
     "output_type": "display_data"
    }
   ],
   "source": [
    "#relationship between shape length  and solar panel type\n",
    "sns.barplot(x='Type', y='Shape__Length', data=solar_data,palette='plasma')"
   ]
  },
  {
   "cell_type": "code",
   "execution_count": 67,
   "metadata": {},
   "outputs": [
    {
     "data": {
      "text/plain": [
       "<AxesSubplot:xlabel='Urban_Rural', ylabel='Shape__Area'>"
      ]
     },
     "execution_count": 67,
     "metadata": {},
     "output_type": "execute_result"
    },
    {
     "data": {
      "image/png": "[encoded data removed]",
      "text/plain": [
       "<Figure size 640x480 with 1 Axes>"
      ]
     },
     "metadata": {},
     "output_type": "display_data"
    }
   ],
   "source": [
    "# relationship between shape area and urban/rural\n",
    "sns.barplot(x='Urban_Rural', y='Shape__Area', data=solar_data,palette='plasma')"
   ]
  },
  {
   "cell_type": "code",
   "execution_count": 68,
   "metadata": {},
   "outputs": [
    {
     "data": {
      "text/plain": [
       "<AxesSubplot:xlabel='Urban_Rural', ylabel='Shape__Length'>"
      ]
     },
     "execution_count": 68,
     "metadata": {},
     "output_type": "execute_result"
    },
    {
     "data": {
      "image/png": "[encoded data removed]",
      "text/plain": [
       "<Figure size 640x480 with 1 Axes>"
      ]
     },
     "metadata": {},
     "output_type": "display_data"
    }
   ],
   "source": [
    "# relationship between shape length and solar panel type\n",
    "sns.barplot(x='Urban_Rural', y='Shape__Length', data=solar_data,palette='plasma')"
   ]
  },
  {
   "cell_type": "code",
   "execution_count": 73,
   "metadata": {
    "colab": {
     "base_uri": "https://localhost:8080/"
    },
    "id": "lPG9D27dsSnr",
    "outputId": "d825e427-2833-4b02-c002-1a6b6107eaf6"
   },
   "outputs": [
    {
     "name": "stdout",
     "output_type": "stream",
     "text": [
      "Decision Tree architecture r squared score: -0.6156032849020845\n",
      "Decision Tree architecture MAE: 0.5527777777777778\n",
      "Decision Tree architecture RMSE: 0.9732534213770955\n",
      "Decision Tree architecture Classification Report:\n",
      "               precision    recall  f1-score   support\n",
      "\n",
      "           0       0.60      0.58      0.59       376\n",
      "           1       0.80      0.81      0.81       436\n",
      "           2       0.46      0.46      0.46       268\n",
      "\n",
      "    accuracy                           0.64      1080\n",
      "   macro avg       0.62      0.62      0.62      1080\n",
      "weighted avg       0.64      0.64      0.64      1080\n",
      "\n"
     ]
    }
   ],
   "source": [
    "#Decision Tree ML architecture\n",
    "import warnings\n",
    "with warnings.catch_warnings(record=True):\n",
    "    model1_dt = DecisionTreeClassifier(random_state=8)\n",
    "    model1_dt.fit(X_train, Y_train)\n",
    "    Y_pred1 = model1_dt.predict(X_test)\n",
    "    print('Decision Tree architecture r squared score:',r2_score(Y_test, Y_pred1))\n",
    "    print('Decision Tree architecture MAE:', mean_absolute_error(Y_test, Y_pred1))\n",
    "    print('Decision Tree architecture RMSE:', np.sqrt(mean_squared_error(Y_test, Y_pred1)))\n",
    "    print('Decision Tree architecture Classification Report:\\n',classification_report(Y_test, Y_pred1))\n"
   ]
  },
  {
   "cell_type": "code",
   "execution_count": 39,
   "metadata": {
    "colab": {
     "base_uri": "https://localhost:8080/"
    },
    "id": "i2NpPAJ-E_F1",
    "outputId": "9ca9c0e9-301c-404b-bbb0-16177c090bfa"
   },
   "outputs": [
    {
     "name": "stdout",
     "output_type": "stream",
     "text": [
      "Random Forest architecture r squared score: -0.2539481996209727\n",
      "Random Forest architecture MAE: 0.4148148148148148\n",
      "Random Forest architecture RMSE: 0.8574294053653544\n",
      "Random Forest architecture Classification Report:\n",
      "               precision    recall  f1-score   support\n",
      "\n",
      "           0       0.67      0.74      0.71       376\n",
      "           1       0.89      0.87      0.88       436\n",
      "           2       0.61      0.54      0.58       268\n",
      "\n",
      "    accuracy                           0.75      1080\n",
      "   macro avg       0.73      0.72      0.72      1080\n",
      "weighted avg       0.75      0.75      0.74      1080\n",
      "\n"
     ]
    }
   ],
   "source": [
    "#Random Forest ML architecture\n",
    "import warnings\n",
    "with warnings.catch_warnings(record=True):\n",
    "    model2_rf = RandomForestClassifier(random_state=8)\n",
    "    model2_rf.fit(X_train, Y_train)\n",
    "    Y_pred2 = model2_rf.predict(X_test)\n",
    "    print('Random Forest architecture r squared score:',r2_score(Y_test, Y_pred2))\n",
    "    print('Random Forest architecture MAE:', mean_absolute_error(Y_test, Y_pred2))\n",
    "    print('Random Forest architecture RMSE:', np.sqrt(mean_squared_error(Y_test, Y_pred2)))\n",
    "    print('Random Forest architecture Classification Report:\\n',classification_report(Y_test, Y_pred2))"
   ]
  },
  {
   "cell_type": "code",
   "execution_count": 40,
   "metadata": {
    "colab": {
     "base_uri": "https://localhost:8080/"
    },
    "id": "IyrPhU7zQ8Fw",
    "outputId": "2905b428-8550-47ae-e6b7-9bafae9bbcfe"
   },
   "outputs": [
    {
     "name": "stdout",
     "output_type": "stream",
     "text": [
      "Logistic Regression architecture r squared score: -1.0514845230574856\n",
      "Logistic Regression architecture MAE: 0.7287037037037037\n",
      "Logistic Regression architecture RMSE: 1.09671225842414\n",
      "Logistic Regression architecture Classification Report:\n",
      "               precision    recall  f1-score   support\n",
      "\n",
      "           0       0.44      0.59      0.50       376\n",
      "           1       0.80      0.49      0.61       436\n",
      "           2       0.36      0.43      0.39       268\n",
      "\n",
      "    accuracy                           0.51      1080\n",
      "   macro avg       0.54      0.50      0.50      1080\n",
      "weighted avg       0.57      0.51      0.52      1080\n",
      "\n"
     ]
    }
   ],
   "source": [
    "#Logistic Regression ML architecture\n",
    "import warnings\n",
    "with warnings.catch_warnings(record=True):\n",
    "    model3_lr = LogisticRegression()\n",
    "    model3_lr.fit(X_train, Y_train)\n",
    "    Y_pred3 = model3_lr.predict(X_test)\n",
    "    print('Logistic Regression architecture r squared score:',r2_score(Y_test, Y_pred3))\n",
    "    print('Logistic Regression architecture MAE:', mean_absolute_error(Y_test, Y_pred3))\n",
    "    print('Logistic Regression architecture RMSE:', np.sqrt(mean_squared_error(Y_test, Y_pred3)))\n",
    "    print('Logistic Regression architecture Classification Report:\\n',classification_report(Y_test, Y_pred3))"
   ]
  },
  {
   "cell_type": "code",
   "execution_count": 41,
   "metadata": {
    "colab": {
     "base_uri": "https://localhost:8080/"
    },
    "id": "6sCFx3LDRYCY",
    "outputId": "49cc7aca-1f70-4388-c395-3443775458ff"
   },
   "outputs": [
    {
     "name": "stdout",
     "output_type": "stream",
     "text": [
      "Gaussian Naive Bayes ML architecture r squared score: -1.702147820593809\n",
      "Gaussian Naive Bayes ML architecture MAE: 0.937962962962963\n",
      "Gaussian Naive Bayes ML architecture RMSE: 1.2586736110919539\n",
      "Gaussian Naive Bayes ML architecture Classification Report:\n",
      "               precision    recall  f1-score   support\n",
      "\n",
      "           0       0.29      0.17      0.22       376\n",
      "           1       0.94      0.30      0.45       436\n",
      "           2       0.31      0.83      0.45       268\n",
      "\n",
      "    accuracy                           0.39      1080\n",
      "   macro avg       0.51      0.43      0.37      1080\n",
      "weighted avg       0.56      0.39      0.37      1080\n",
      "\n"
     ]
    }
   ],
   "source": [
    "#Gaussian Naive Bayes ML architecture\n",
    "import warnings\n",
    "with warnings.catch_warnings(record=True):\n",
    "    model4_gb = GaussianNB()\n",
    "    model4_gb.fit(X_train, Y_train)\n",
    "    Y_pred4 = model4_gb.predict(X_test)\n",
    "    print('Gaussian Naive Bayes ML architecture r squared score:',r2_score(Y_test, Y_pred4))\n",
    "    print('Gaussian Naive Bayes ML architecture MAE:', mean_absolute_error(Y_test, Y_pred4))\n",
    "    print('Gaussian Naive Bayes ML architecture RMSE:', np.sqrt(mean_squared_error(Y_test, Y_pred4)))\n",
    "    print('Gaussian Naive Bayes ML architecture Classification Report:\\n',classification_report(Y_test, Y_pred4))"
   ]
  },
  {
   "cell_type": "code",
   "execution_count": 42,
   "metadata": {
    "colab": {
     "base_uri": "https://localhost:8080/"
    },
    "id": "BBrr3J0qRr5W",
    "outputId": "889ce665-b661-4336-a2fe-4541dd5eeb3f"
   },
   "outputs": [
    {
     "name": "stdout",
     "output_type": "stream",
     "text": [
      "K Nearest Neighbour ML architecture r squared score: -0.5808591282375235\n",
      "K Nearest Neighbour ML architecture MAE: 0.5805555555555556\n",
      "K Nearest Neighbour ML architecture RMSE: 0.9627314536524979\n",
      "K Nearest Neighbour ML architecture Classification Report:\n",
      "               precision    recall  f1-score   support\n",
      "\n",
      "           0       0.53      0.64      0.58       376\n",
      "           1       0.73      0.67      0.70       436\n",
      "           2       0.48      0.40      0.44       268\n",
      "\n",
      "    accuracy                           0.59      1080\n",
      "   macro avg       0.58      0.57      0.57      1080\n",
      "weighted avg       0.60      0.59      0.59      1080\n",
      "\n"
     ]
    }
   ],
   "source": [
    "#K Nearest Neighbour ML architecture\n",
    "import warnings\n",
    "with warnings.catch_warnings(record=True):\n",
    "    model5_knn = KNeighborsClassifier(n_neighbors=3,metric = 'euclidean')\n",
    "    model5_knn.fit(X_train, Y_train)\n",
    "    Y_pred5 = model5_knn.predict(X_test)\n",
    "    print('K Nearest Neighbour ML architecture r squared score:',r2_score(Y_test, Y_pred5))\n",
    "    print('K Nearest Neighbour ML architecture MAE:', mean_absolute_error(Y_test, Y_pred5))\n",
    "    print('K Nearest Neighbour ML architecture RMSE:', np.sqrt(mean_squared_error(Y_test, Y_pred5)))\n",
    "    print('K Nearest Neighbour ML architecture Classification Report:\\n',classification_report(Y_test, Y_pred5))"
   ]
  },
  {
   "cell_type": "code",
   "execution_count": null,
   "metadata": {},
   "outputs": [],
   "source": []
  }
 ],
 "metadata": {
  "colab": {
   "provenance": []
  },
  "kernelspec": {
   "display_name": "Python 3 (ipykernel)",
   "language": "python",
   "name": "python3"
  },
  "language_info": {
   "codemirror_mode": {
    "name": "ipython",
    "version": 3
   },
   "file_extension": ".py",
   "mimetype": "text/x-python",
   "name": "python",
   "nbconvert_exporter": "python",
   "pygments_lexer": "ipython3",
   "version": "3.9.13"
  }
 },
 "nbformat": 4,
 "nbformat_minor": 1
}
